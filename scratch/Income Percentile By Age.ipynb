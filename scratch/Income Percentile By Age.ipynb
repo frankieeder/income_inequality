{
 "cells": [
  {
   "cell_type": "code",
   "execution_count": null,
   "id": "8ac6a0e8",
   "metadata": {},
   "outputs": [],
   "source": [
    "%pip install lxml\n",
    "%pip install statsmodels"
   ]
  },
  {
   "cell_type": "code",
   "execution_count": null,
   "id": "81e2cc4c",
   "metadata": {},
   "outputs": [],
   "source": [
    "import pandas as pd\n",
    "import numpy as np"
   ]
  },
  {
   "cell_type": "code",
   "execution_count": null,
   "id": "60748fa5",
   "metadata": {},
   "outputs": [],
   "source": [
    "pd.read_csv(\n",
    "    'https://dqydj.com/scripts/cps/2022_income_calculators/cps_2022_households.csv',)"
   ]
  },
  {
   "cell_type": "code",
   "execution_count": null,
   "id": "e8455904",
   "metadata": {},
   "outputs": [],
   "source": [
    "pd.read_csv(\n",
    "    'https://dqydj.com/scripts/scf/2020_wealth_calculators/scf_2020_age.csv',)"
   ]
  },
  {
   "cell_type": "code",
   "execution_count": null,
   "id": "1c74a63f",
   "metadata": {},
   "outputs": [],
   "source": [
    "# https://dqydj.com/scripts/cps/2022_income_calculators/2022_income_by_age.html\n",
    "# Inspecting scripts led here\n",
    "# https://dqydj.com/scripts/cps/2022_income_calculators/2022_income_by_age.html\n",
    "# Then reading the js gave me the below link:\n",
    "df = pd.read_csv(\n",
    "    'https://dqydj.com/scripts/cps/2022_income_calculators/cps_2022_income_by_age.csv',\n",
    "    \n",
    ")\n",
    "df = df.set_index('Pct')\n",
    "df"
   ]
  },
  {
   "cell_type": "code",
   "execution_count": null,
   "id": "3c1ce374",
   "metadata": {},
   "outputs": [],
   "source": [
    "import plotly.graph_objects as go\n",
    "import plotly.express as px\n",
    "import plotly.offline as pyo\n",
    "import plotly.io as pio\n",
    "pio.renderers.default = 'iframe'"
   ]
  },
  {
   "cell_type": "code",
   "execution_count": null,
   "id": "fff15d97",
   "metadata": {},
   "outputs": [],
   "source": [
    "fig = go.Figure(data=[go.Surface(z=df.values)])\n",
    "fig.show()"
   ]
  },
  {
   "cell_type": "code",
   "execution_count": null,
   "id": "45f602e1",
   "metadata": {},
   "outputs": [],
   "source": [
    "import statsmodels"
   ]
  },
  {
   "cell_type": "code",
   "execution_count": null,
   "id": "7093317f",
   "metadata": {},
   "outputs": [],
   "source": [
    "def smooth_matrix_along_rows_lowess(mat, *args, **kwargs):\n",
    "    smoothed = np.empty_like(mat)\n",
    "    for i, row in enumerate(mat):\n",
    "        smoothed[i] = statsmodels.nonparametric.smoothers_lowess.lowess(\n",
    "            endog=row,\n",
    "            exog=np.arange(len(row)),\n",
    "            return_sorted=False,\n",
    "            *args,\n",
    "            **kwargs,\n",
    "        )\n",
    "    return smoothed"
   ]
  },
  {
   "cell_type": "code",
   "execution_count": null,
   "id": "6f5ddbd2",
   "metadata": {},
   "outputs": [],
   "source": []
  },
  {
   "cell_type": "code",
   "execution_count": null,
   "id": "43e34e54",
   "metadata": {},
   "outputs": [],
   "source": [
    "fig = go.Figure(\n",
    "    data=[\n",
    "        go.Surface(\n",
    "            z=smooth_matrix_along_rows_lowess(df.values),\n",
    "            colorscale='ice_r',\n",
    "#             contours = {\n",
    "#                 #\"y\": {\"show\": True, \"size\": 0.01, \"color\":\"black\"},\n",
    "#                 #\"z\": {\"show\": True, \"start\": 0.5, \"end\": 0.8, \"size\": 0.01}\n",
    "#             }\n",
    "        )\n",
    "    ]\n",
    ")\n",
    "fig.update_layout(\n",
    "    title=\"Income by Income Percentile and Age\",\n",
    ")\n",
    "fig.update_traces(\n",
    "    hovertemplate=\"\"\"Age: %{x}<br>Percentile %{y}<br>Income: %{z}\"\"\",\n",
    ")\n",
    "fig.show()"
   ]
  },
  {
   "cell_type": "code",
   "execution_count": null,
   "id": "41081cf2",
   "metadata": {},
   "outputs": [],
   "source": [
    "np.median(smooth_matrix_along_rows_lowess(df.values))"
   ]
  },
  {
   "cell_type": "code",
   "execution_count": null,
   "id": "4b092576",
   "metadata": {},
   "outputs": [],
   "source": [
    "smooth_matrix_along_rows_lowess(df.values).mean()"
   ]
  },
  {
   "cell_type": "code",
   "execution_count": null,
   "id": "89e16812",
   "metadata": {},
   "outputs": [],
   "source": [
    "fig = go.Figure(data=[go.Surface(z=smooth_matrix_along_rows_lowess(df.values.T, frac=0.1))])\n",
    "fig.show()"
   ]
  },
  {
   "cell_type": "code",
   "execution_count": null,
   "id": "baa3459b",
   "metadata": {},
   "outputs": [],
   "source": [
    "fig = go.Figure(data =\n",
    "    go.Contour(\n",
    "        z=smooth_matrix_along_rows_lowess(df.values),\n",
    "        colorscale='ice_r',\n",
    "    ))\n",
    "fig.show()"
   ]
  },
  {
   "cell_type": "code",
   "execution_count": null,
   "id": "79560f33",
   "metadata": {},
   "outputs": [],
   "source": [
    "px.scatter(df['24'], trendline=\"lowess\", trendline_options=dict(frac=0.1))"
   ]
  },
  {
   "cell_type": "code",
   "execution_count": null,
   "id": "39b62405",
   "metadata": {},
   "outputs": [],
   "source": [
    "px.scatter(df.T[0.99], trendline=\"lowess\")"
   ]
  },
  {
   "cell_type": "code",
   "execution_count": null,
   "id": "5789b2c8",
   "metadata": {},
   "outputs": [],
   "source": [
    "px.scatter(df.T[0.99], trendline=\"ewm\", trendline_options=dict(halflife=2))"
   ]
  },
  {
   "cell_type": "code",
   "execution_count": null,
   "id": "51cdc019",
   "metadata": {},
   "outputs": [],
   "source": [
    "\n"
   ]
  },
  {
   "cell_type": "code",
   "execution_count": null,
   "id": "16512bc1",
   "metadata": {},
   "outputs": [],
   "source": [
    "px.scatter(df.T[0.99], trendline=\"rolling\", \n",
    "                 trendline_options=dict(window=10, win_type=\"gaussian\", function_args=dict(std=2)))"
   ]
  },
  {
   "cell_type": "code",
   "execution_count": null,
   "id": "5423ea22",
   "metadata": {},
   "outputs": [],
   "source": [
    "fig = go.Figure(data=[go.Surface(z=np.log(1 + df.values))])\n",
    "fig.show()"
   ]
  },
  {
   "cell_type": "code",
   "execution_count": null,
   "id": "84fc24a7",
   "metadata": {},
   "outputs": [],
   "source": []
  }
 ],
 "metadata": {
  "kernelspec": {
   "display_name": "Python 3 (ipykernel)",
   "language": "python",
   "name": "python3"
  },
  "language_info": {
   "codemirror_mode": {
    "name": "ipython",
    "version": 3
   },
   "file_extension": ".py",
   "mimetype": "text/x-python",
   "name": "python",
   "nbconvert_exporter": "python",
   "pygments_lexer": "ipython3",
   "version": "3.10.9"
  }
 },
 "nbformat": 4,
 "nbformat_minor": 5
}
